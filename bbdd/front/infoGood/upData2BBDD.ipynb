{
 "cells": [
  {
   "cell_type": "code",
   "execution_count": 3,
   "metadata": {},
   "outputs": [],
   "source": [
    "import numpy as np\n",
    "import pandas as pd"
   ]
  },
  {
   "cell_type": "code",
   "execution_count": 4,
   "metadata": {},
   "outputs": [
    {
     "output_type": "execute_result",
     "data": {
      "text/plain": "  id_gr         grup_name\n0     0         Full Body\n1     1   Pecho y Triceps\n2     2           Piernas\n3     3  Espalda y biceps\n4     4              Core\n5     5           Hombros\n6     6     Personalizado",
      "text/html": "<div>\n<style scoped>\n    .dataframe tbody tr th:only-of-type {\n        vertical-align: middle;\n    }\n\n    .dataframe tbody tr th {\n        vertical-align: top;\n    }\n\n    .dataframe thead th {\n        text-align: right;\n    }\n</style>\n<table border=\"1\" class=\"dataframe\">\n  <thead>\n    <tr style=\"text-align: right;\">\n      <th></th>\n      <th>id_gr</th>\n      <th>grup_name</th>\n    </tr>\n  </thead>\n  <tbody>\n    <tr>\n      <td>0</td>\n      <td>0</td>\n      <td>Full Body</td>\n    </tr>\n    <tr>\n      <td>1</td>\n      <td>1</td>\n      <td>Pecho y Triceps</td>\n    </tr>\n    <tr>\n      <td>2</td>\n      <td>2</td>\n      <td>Piernas</td>\n    </tr>\n    <tr>\n      <td>3</td>\n      <td>3</td>\n      <td>Espalda y biceps</td>\n    </tr>\n    <tr>\n      <td>4</td>\n      <td>4</td>\n      <td>Core</td>\n    </tr>\n    <tr>\n      <td>5</td>\n      <td>5</td>\n      <td>Hombros</td>\n    </tr>\n    <tr>\n      <td>6</td>\n      <td>6</td>\n      <td>Personalizado</td>\n    </tr>\n  </tbody>\n</table>\n</div>"
     },
     "metadata": {},
     "execution_count": 4
    }
   ],
   "source": [
    "grupMuscData = pd.read_csv('info_RAW/grupos_musculares.txt',delimiter=';',dtype=\"str\")\n",
    "grupMuscData.to_csv('grupos_musculares_Good.txt', index=False,sep = ';')\n",
    "grupMuscData"
   ]
  },
  {
   "cell_type": "markdown",
   "metadata": {},
   "source": [
    "### Subida de los GruposMusc"
   ]
  },
  {
   "cell_type": "code",
   "execution_count": 11,
   "metadata": {},
   "outputs": [],
   "source": [
    "code = {'Pecho,triceps':1,  'Piernas':2, 'Espalda,biceps':3, 'Core':4, 'Hombros':5}"
   ]
  },
  {
   "cell_type": "code",
   "execution_count": 12,
   "metadata": {},
   "outputs": [
    {
     "output_type": "execute_result",
     "data": {
      "text/plain": "    id                                             Nombre musculos  \\\n0  co0      Elevaciones cruzadas en posicion de flexiones        4   \n1  co1  Elevacines de pierna alternas en posicion de f...        4   \n2  co2                             Isometrico Knne raises        4   \n3  co3                                Leg raises en suelo        4   \n4  co4                                  Plancha abdominal        4   \n\n          nivel                                        descripcion    idFoto  \n0  Principiante  En el suelo en posicion de flexiones, extiende...  c001.jpg  \n1  Principiante  En el suelo en posicion de flexiones, eleva un...  c002.jpg  \n2  Principiante  Colocate colgado en la barra, flexiona las pie...  c003.jpg  \n3  Principiante  Acostado boca arriba, levanta ambas piernas, m...  c004.jpg  \n4  Principiante  Colocate en el suelo apoyando las puntas de lo...  c005.jpg  ",
      "text/html": "<div>\n<style scoped>\n    .dataframe tbody tr th:only-of-type {\n        vertical-align: middle;\n    }\n\n    .dataframe tbody tr th {\n        vertical-align: top;\n    }\n\n    .dataframe thead th {\n        text-align: right;\n    }\n</style>\n<table border=\"1\" class=\"dataframe\">\n  <thead>\n    <tr style=\"text-align: right;\">\n      <th></th>\n      <th>id</th>\n      <th>Nombre</th>\n      <th>musculos</th>\n      <th>nivel</th>\n      <th>descripcion</th>\n      <th>idFoto</th>\n    </tr>\n  </thead>\n  <tbody>\n    <tr>\n      <td>0</td>\n      <td>co0</td>\n      <td>Elevaciones cruzadas en posicion de flexiones</td>\n      <td>4</td>\n      <td>Principiante</td>\n      <td>En el suelo en posicion de flexiones, extiende...</td>\n      <td>c001.jpg</td>\n    </tr>\n    <tr>\n      <td>1</td>\n      <td>co1</td>\n      <td>Elevacines de pierna alternas en posicion de f...</td>\n      <td>4</td>\n      <td>Principiante</td>\n      <td>En el suelo en posicion de flexiones, eleva un...</td>\n      <td>c002.jpg</td>\n    </tr>\n    <tr>\n      <td>2</td>\n      <td>co2</td>\n      <td>Isometrico Knne raises</td>\n      <td>4</td>\n      <td>Principiante</td>\n      <td>Colocate colgado en la barra, flexiona las pie...</td>\n      <td>c003.jpg</td>\n    </tr>\n    <tr>\n      <td>3</td>\n      <td>co3</td>\n      <td>Leg raises en suelo</td>\n      <td>4</td>\n      <td>Principiante</td>\n      <td>Acostado boca arriba, levanta ambas piernas, m...</td>\n      <td>c004.jpg</td>\n    </tr>\n    <tr>\n      <td>4</td>\n      <td>co4</td>\n      <td>Plancha abdominal</td>\n      <td>4</td>\n      <td>Principiante</td>\n      <td>Colocate en el suelo apoyando las puntas de lo...</td>\n      <td>c005.jpg</td>\n    </tr>\n  </tbody>\n</table>\n</div>"
     },
     "metadata": {},
     "execution_count": 12
    }
   ],
   "source": [
    "rutinasDataCore = pd.read_csv('info_RAW/core.txt',delimiter=';',dtype=\"str\")\n",
    "rutinasDataCore.drop(columns = 'valoracion',inplace=True)\n",
    "rutinasDataCore.musculos.replace(code,inplace=True)\n",
    "rutinasDataCore.idFoto = rutinasDataCore.idFoto + \".jpg\"\n",
    "rutinasDataCore = rutinasDataCore.iloc[:,[0,1,3,2,4,5]]\n",
    "rutinasDataCore.to_csv('core_Good.txt', index=False,sep = ';')\n",
    "rutinasDataCore.head()"
   ]
  },
  {
   "cell_type": "code",
   "execution_count": 13,
   "metadata": {},
   "outputs": [
    {
     "output_type": "execute_result",
     "data": {
      "text/plain": "    id               Nombre musculos         nivel  \\\n0  eb0  Australian chin ups        3  Principiante   \n1  eb1  Australian pull ups        3  Principiante   \n2  eb2            Dead hang        3  Principiante   \n3  eb3    Dominada negativa        3  Principiante   \n4  eb4             Pullover        3  Principiante   \n\n                                         descripcion     idFoto  \n0  En una barra baja, col�cate debajo para hacer ...  eb001.jpg  \n1  En una barra baja col�cate por debajo para hac...  eb002.jpg  \n2  En una barra alta, qu�date colgado por un tiem...  eb003.jpg  \n3  Salta hasta colocarte con la barbilla por enci...  eb004.jpg  \n4  En una barra baja, da un paso hacia adelante y...  eb005.jpg  ",
      "text/html": "<div>\n<style scoped>\n    .dataframe tbody tr th:only-of-type {\n        vertical-align: middle;\n    }\n\n    .dataframe tbody tr th {\n        vertical-align: top;\n    }\n\n    .dataframe thead th {\n        text-align: right;\n    }\n</style>\n<table border=\"1\" class=\"dataframe\">\n  <thead>\n    <tr style=\"text-align: right;\">\n      <th></th>\n      <th>id</th>\n      <th>Nombre</th>\n      <th>musculos</th>\n      <th>nivel</th>\n      <th>descripcion</th>\n      <th>idFoto</th>\n    </tr>\n  </thead>\n  <tbody>\n    <tr>\n      <td>0</td>\n      <td>eb0</td>\n      <td>Australian chin ups</td>\n      <td>3</td>\n      <td>Principiante</td>\n      <td>En una barra baja, col�cate debajo para hacer ...</td>\n      <td>eb001.jpg</td>\n    </tr>\n    <tr>\n      <td>1</td>\n      <td>eb1</td>\n      <td>Australian pull ups</td>\n      <td>3</td>\n      <td>Principiante</td>\n      <td>En una barra baja col�cate por debajo para hac...</td>\n      <td>eb002.jpg</td>\n    </tr>\n    <tr>\n      <td>2</td>\n      <td>eb2</td>\n      <td>Dead hang</td>\n      <td>3</td>\n      <td>Principiante</td>\n      <td>En una barra alta, qu�date colgado por un tiem...</td>\n      <td>eb003.jpg</td>\n    </tr>\n    <tr>\n      <td>3</td>\n      <td>eb3</td>\n      <td>Dominada negativa</td>\n      <td>3</td>\n      <td>Principiante</td>\n      <td>Salta hasta colocarte con la barbilla por enci...</td>\n      <td>eb004.jpg</td>\n    </tr>\n    <tr>\n      <td>4</td>\n      <td>eb4</td>\n      <td>Pullover</td>\n      <td>3</td>\n      <td>Principiante</td>\n      <td>En una barra baja, da un paso hacia adelante y...</td>\n      <td>eb005.jpg</td>\n    </tr>\n  </tbody>\n</table>\n</div>"
     },
     "metadata": {},
     "execution_count": 13
    }
   ],
   "source": [
    "rutinasDataEspalda = pd.read_csv('info_RAW/espalda_biceps.txt',delimiter=';',dtype=\"str\")\n",
    "rutinasDataEspalda.drop(columns = 'valoracion',inplace=True)\n",
    "rutinasDataEspalda.musculos.replace(code,inplace=True)\n",
    "rutinasDataEspalda.idFoto = rutinasDataEspalda.idFoto + \".jpg\"\n",
    "rutinasDataEspalda = rutinasDataEspalda.iloc[:,[0,1,3,2,4,5]]\n",
    "rutinasDataEspalda.to_csv('espalda_biceps_Good.txt', index=False,sep = ';')\n",
    "rutinasDataEspalda.head()"
   ]
  },
  {
   "cell_type": "code",
   "execution_count": 14,
   "metadata": {},
   "outputs": [
    {
     "output_type": "execute_result",
     "data": {
      "text/plain": "    id                             Nombre  musculos         nivel  \\\n0  ho0  Flexiones a pino asistidas cortas         5  Principiante   \n1  ho1             Pino asistido en pared         5  Principiante   \n2  ho2                      Pica en barra         5  Principiante   \n3  ho3         Rotacion de hombro externa         5  Principiante   \n4  ho4                       Skin the cat         5  Principiante   \n\n                                         descripcion    idFoto  \n0  Haz el pino contra la pared y flexiona un poco...  h001.jpg  \n1  Coloca las manos en el suelo e impulsate con l...  h002.jpg  \n2  Colocate en la barra y pasa las piernas entre ...  h003.jpg  \n3  De lado delante de la barra, agarra la cinta e...  h004.jpg  \n4  Cuelgate de la barra y encoge las piernas pasa...  h005.jpg  ",
      "text/html": "<div>\n<style scoped>\n    .dataframe tbody tr th:only-of-type {\n        vertical-align: middle;\n    }\n\n    .dataframe tbody tr th {\n        vertical-align: top;\n    }\n\n    .dataframe thead th {\n        text-align: right;\n    }\n</style>\n<table border=\"1\" class=\"dataframe\">\n  <thead>\n    <tr style=\"text-align: right;\">\n      <th></th>\n      <th>id</th>\n      <th>Nombre</th>\n      <th>musculos</th>\n      <th>nivel</th>\n      <th>descripcion</th>\n      <th>idFoto</th>\n    </tr>\n  </thead>\n  <tbody>\n    <tr>\n      <td>0</td>\n      <td>ho0</td>\n      <td>Flexiones a pino asistidas cortas</td>\n      <td>5</td>\n      <td>Principiante</td>\n      <td>Haz el pino contra la pared y flexiona un poco...</td>\n      <td>h001.jpg</td>\n    </tr>\n    <tr>\n      <td>1</td>\n      <td>ho1</td>\n      <td>Pino asistido en pared</td>\n      <td>5</td>\n      <td>Principiante</td>\n      <td>Coloca las manos en el suelo e impulsate con l...</td>\n      <td>h002.jpg</td>\n    </tr>\n    <tr>\n      <td>2</td>\n      <td>ho2</td>\n      <td>Pica en barra</td>\n      <td>5</td>\n      <td>Principiante</td>\n      <td>Colocate en la barra y pasa las piernas entre ...</td>\n      <td>h003.jpg</td>\n    </tr>\n    <tr>\n      <td>3</td>\n      <td>ho3</td>\n      <td>Rotacion de hombro externa</td>\n      <td>5</td>\n      <td>Principiante</td>\n      <td>De lado delante de la barra, agarra la cinta e...</td>\n      <td>h004.jpg</td>\n    </tr>\n    <tr>\n      <td>4</td>\n      <td>ho4</td>\n      <td>Skin the cat</td>\n      <td>5</td>\n      <td>Principiante</td>\n      <td>Cuelgate de la barra y encoge las piernas pasa...</td>\n      <td>h005.jpg</td>\n    </tr>\n  </tbody>\n</table>\n</div>"
     },
     "metadata": {},
     "execution_count": 14
    }
   ],
   "source": [
    "rutinasDataHombros = pd.read_csv('info_RAW/hombros.txt',delimiter=';',dtype=\"str\")\n",
    "rutinasDataHombros.drop(columns = 'valoracion',inplace=True)\n",
    "rutinasDataHombros.musculos.replace(code,inplace=True)\n",
    "rutinasDataHombros.idFoto = rutinasDataHombros.idFoto + \".jpg\"\n",
    "rutinasDataHombros = rutinasDataHombros.iloc[:,[0,1,3,2,4,5]]\n",
    "rutinasDataHombros.to_csv('hombros_Good.txt', index=False,sep = ';')\n",
    "rutinasDataHombros.head()"
   ]
  },
  {
   "cell_type": "code",
   "execution_count": 15,
   "metadata": {},
   "outputs": [
    {
     "output_type": "execute_result",
     "data": {
      "text/plain": "     id                         Nombre musculos         nivel  \\\n0  pet0                      Flexiones        1  Principiante   \n1  pet1           Flexiones inclinadas        1  Principiante   \n2  pet2                 Fondos triceps        1  Principiante   \n3  pet3                Fondos en banco        1  Principiante   \n4  pet4  Isométrico de flexiones abajo        1  Principiante   \n\n                                         descripcion     idFoto  \n0  Manos en el suelo, apertura un poco más amplia...  pt001.jpg  \n1  Flexiones con los braxos en alto con respecto ...  pt002.jpg  \n2  Colócate en las paralelas y realiza fondos en ...  pt003.jpg  \n3  En un banco que tenga una altura entre tus rod...  pt004.jpg  \n4  En el suelo, colócate en posición de flexiones...  pt005.jpg  ",
      "text/html": "<div>\n<style scoped>\n    .dataframe tbody tr th:only-of-type {\n        vertical-align: middle;\n    }\n\n    .dataframe tbody tr th {\n        vertical-align: top;\n    }\n\n    .dataframe thead th {\n        text-align: right;\n    }\n</style>\n<table border=\"1\" class=\"dataframe\">\n  <thead>\n    <tr style=\"text-align: right;\">\n      <th></th>\n      <th>id</th>\n      <th>Nombre</th>\n      <th>musculos</th>\n      <th>nivel</th>\n      <th>descripcion</th>\n      <th>idFoto</th>\n    </tr>\n  </thead>\n  <tbody>\n    <tr>\n      <td>0</td>\n      <td>pet0</td>\n      <td>Flexiones</td>\n      <td>1</td>\n      <td>Principiante</td>\n      <td>Manos en el suelo, apertura un poco más amplia...</td>\n      <td>pt001.jpg</td>\n    </tr>\n    <tr>\n      <td>1</td>\n      <td>pet1</td>\n      <td>Flexiones inclinadas</td>\n      <td>1</td>\n      <td>Principiante</td>\n      <td>Flexiones con los braxos en alto con respecto ...</td>\n      <td>pt002.jpg</td>\n    </tr>\n    <tr>\n      <td>2</td>\n      <td>pet2</td>\n      <td>Fondos triceps</td>\n      <td>1</td>\n      <td>Principiante</td>\n      <td>Colócate en las paralelas y realiza fondos en ...</td>\n      <td>pt003.jpg</td>\n    </tr>\n    <tr>\n      <td>3</td>\n      <td>pet3</td>\n      <td>Fondos en banco</td>\n      <td>1</td>\n      <td>Principiante</td>\n      <td>En un banco que tenga una altura entre tus rod...</td>\n      <td>pt004.jpg</td>\n    </tr>\n    <tr>\n      <td>4</td>\n      <td>pet4</td>\n      <td>Isométrico de flexiones abajo</td>\n      <td>1</td>\n      <td>Principiante</td>\n      <td>En el suelo, colócate en posición de flexiones...</td>\n      <td>pt005.jpg</td>\n    </tr>\n  </tbody>\n</table>\n</div>"
     },
     "metadata": {},
     "execution_count": 15
    }
   ],
   "source": [
    "rutinasDataPecho = pd.read_csv('info_RAW/pecho_triceps.txt',delimiter=';',dtype=\"str\")\n",
    "rutinasDataPecho.drop(columns = 'valoracion',inplace=True)\n",
    "rutinasDataPecho.musculos.replace(code,inplace=True)\n",
    "rutinasDataPecho.idFoto = rutinasDataPecho.idFoto + \".jpg\"\n",
    "rutinasDataPecho = rutinasDataPecho.iloc[:,[0,1,3,2,4,5]]\n",
    "rutinasDataPecho.to_csv('pecho_triceps_Good.txt', index=False,sep = ';')\n",
    "rutinasDataPecho.head()"
   ]
  },
  {
   "cell_type": "code",
   "execution_count": 16,
   "metadata": {},
   "outputs": [
    {
     "output_type": "execute_result",
     "data": {
      "text/plain": "    id                    Nombre musculos         nivel  \\\n0  pi0    Elevaciones de gemelos        2  Principiante   \n1  pi1  Isométrico de sentadilla        2  Principiante   \n2  pi2         Puentes femorales        2  Principiante   \n3  pi3                Sentadilla        2  Principiante   \n4  pi4                  Zancadas        2  Principiante   \n\n                                         descripcion    idFoto  \n0  Colocarse en el borde de un escalón o barra ba...  p001.jpg  \n1  Colocarse en  posición de sentadilla con las r...  p002.jpg  \n2  Colocarse tumbado en el suelo boca arriba, fle...  p003.jpg  \n3  Colocar las piernas con una apertura un poco m...  p004.jpg  \n4  Adelantar una pierna dejando la otra atrás y f...  p005.jpg  ",
      "text/html": "<div>\n<style scoped>\n    .dataframe tbody tr th:only-of-type {\n        vertical-align: middle;\n    }\n\n    .dataframe tbody tr th {\n        vertical-align: top;\n    }\n\n    .dataframe thead th {\n        text-align: right;\n    }\n</style>\n<table border=\"1\" class=\"dataframe\">\n  <thead>\n    <tr style=\"text-align: right;\">\n      <th></th>\n      <th>id</th>\n      <th>Nombre</th>\n      <th>musculos</th>\n      <th>nivel</th>\n      <th>descripcion</th>\n      <th>idFoto</th>\n    </tr>\n  </thead>\n  <tbody>\n    <tr>\n      <td>0</td>\n      <td>pi0</td>\n      <td>Elevaciones de gemelos</td>\n      <td>2</td>\n      <td>Principiante</td>\n      <td>Colocarse en el borde de un escalón o barra ba...</td>\n      <td>p001.jpg</td>\n    </tr>\n    <tr>\n      <td>1</td>\n      <td>pi1</td>\n      <td>Isométrico de sentadilla</td>\n      <td>2</td>\n      <td>Principiante</td>\n      <td>Colocarse en  posición de sentadilla con las r...</td>\n      <td>p002.jpg</td>\n    </tr>\n    <tr>\n      <td>2</td>\n      <td>pi2</td>\n      <td>Puentes femorales</td>\n      <td>2</td>\n      <td>Principiante</td>\n      <td>Colocarse tumbado en el suelo boca arriba, fle...</td>\n      <td>p003.jpg</td>\n    </tr>\n    <tr>\n      <td>3</td>\n      <td>pi3</td>\n      <td>Sentadilla</td>\n      <td>2</td>\n      <td>Principiante</td>\n      <td>Colocar las piernas con una apertura un poco m...</td>\n      <td>p004.jpg</td>\n    </tr>\n    <tr>\n      <td>4</td>\n      <td>pi4</td>\n      <td>Zancadas</td>\n      <td>2</td>\n      <td>Principiante</td>\n      <td>Adelantar una pierna dejando la otra atrás y f...</td>\n      <td>p005.jpg</td>\n    </tr>\n  </tbody>\n</table>\n</div>"
     },
     "metadata": {},
     "execution_count": 16
    }
   ],
   "source": [
    "rutinasDataPiernas = pd.read_csv('info_RAW/piernas.txt',delimiter=';',dtype=\"str\")\n",
    "rutinasDataPiernas.drop(columns = 'valoracion',inplace=True)\n",
    "rutinasDataPiernas.musculos.replace(code,inplace=True)\n",
    "rutinasDataPiernas.idFoto = rutinasDataPiernas.idFoto + \".jpg\"\n",
    "rutinasDataPiernas = rutinasDataPiernas.iloc[:,[0,1,3,2,4,5]]\n",
    "rutinasDataPiernas.to_csv('piernas_Good.txt', index=False,sep = ';')\n",
    "rutinasDataPiernas.head()"
   ]
  },
  {
   "cell_type": "markdown",
   "metadata": {},
   "source": [
    "<br><br><br><br><br><br><br><br><br><br><br><br><br>"
   ]
  }
 ],
 "metadata": {
  "language_info": {
   "name": "python",
   "codemirror_mode": {
    "name": "ipython",
    "version": 3
   },
   "version": "3.7.4-final"
  },
  "orig_nbformat": 2,
  "file_extension": ".py",
  "mimetype": "text/x-python",
  "name": "python",
  "npconvert_exporter": "python",
  "pygments_lexer": "ipython3",
  "version": 3,
  "kernelspec": {
   "name": "python3",
   "display_name": "Python 3"
  }
 },
 "nbformat": 4,
 "nbformat_minor": 2
}